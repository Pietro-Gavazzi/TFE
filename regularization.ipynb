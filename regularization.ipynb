{
 "cells": [
  {
   "cell_type": "code",
   "execution_count": 15,
   "metadata": {},
   "outputs": [],
   "source": [
    "# some imports\n",
    "import numpy as np \n",
    "import pandas as pd\n",
    "import matplotlib.pyplot as plt"
   ]
  },
  {
   "cell_type": "code",
   "execution_count": 16,
   "metadata": {},
   "outputs": [],
   "source": [
    "def get_data(nb_features, nb_data, mean_X, std_X, mean_epsilon0, std_epsilon0, mean_epsilon1, std_epsilon1, random_seed):\n",
    "    \n",
    "    np.random.seed(random_seed)\n",
    "\n",
    "    epsilon0 = np.random.normal(mean_epsilon0, std_epsilon0, (nb_data,nb_features+1))\n",
    "    epsilon1 = np.random.normal(mean_epsilon1, std_epsilon1, (nb_data))\n",
    "\n",
    "    X = np.random.normal(mean_X,std_X,(nb_data, nb_features+1))\n",
    "    X.T[0] = np.ones(nb_data)\n",
    "\n",
    "    Xtilde = X+epsilon0\n",
    "    Xtilde.T[0] = np.ones(nb_data)\n",
    "\n",
    "    w = np.random.uniform(-10, 10, nb_features+1)\n",
    "\n",
    "    y = Xtilde@w\n",
    "    ytilde = y+epsilon1\n",
    "    return X, Xtilde, y, ytilde, w"
   ]
  },
  {
   "cell_type": "code",
   "execution_count": 28,
   "metadata": {},
   "outputs": [
    {
     "name": "stdout",
     "output_type": "stream",
     "text": [
      "MSE            = 844337441.8581543\n",
      "MSE bias var   = 844364130.1580367\n"
     ]
    }
   ],
   "source": [
    "nb_experiment = 1\n",
    "nb_features = 100\n",
    "nb_data = 100 \n",
    "\n",
    "mean_X = 0\n",
    "std_X = 1\n",
    "\n",
    "mean_epsilon0 = 0\n",
    "std_epsilon0 = 1\n",
    "\n",
    "mean_epsilon1 = 0\n",
    "std_epsilon1 = 1\n",
    "\n",
    "\n",
    "\n",
    "sum_mse = 0\n",
    "sum_mse_of_bias_variance_tradeoff = 0\n",
    "\n",
    "for random_seed in range(nb_experiment):\n",
    "\n",
    "    X, Xtilde, y, ytilde, w = get_data(nb_features, nb_data, mean_X, std_X, mean_epsilon0, std_epsilon0, mean_epsilon1, std_epsilon1, random_seed)\n",
    "\n",
    "    what = np.linalg.solve(X.T@X, X.T@ytilde)\n",
    "    yhat = Xtilde@what\n",
    "    sum_mse += np.sum((y-yhat)**2)\n",
    "    sum_mse_of_bias_variance_tradeoff += np.sum((ytilde-yhat)**2)\n",
    "\n",
    "\n",
    "\n",
    "\n",
    "\n",
    "\n",
    "\n",
    "print(f\"MSE            = {sum_mse/nb_experiment}\")\n",
    "print(f\"MSE bias var   = {sum_mse_of_bias_variance_tradeoff/nb_experiment}\")\n",
    "\n"
   ]
  }
 ],
 "metadata": {
  "kernelspec": {
   "display_name": "Python 3",
   "language": "python",
   "name": "python3"
  },
  "language_info": {
   "codemirror_mode": {
    "name": "ipython",
    "version": 3
   },
   "file_extension": ".py",
   "mimetype": "text/x-python",
   "name": "python",
   "nbconvert_exporter": "python",
   "pygments_lexer": "ipython3",
   "version": "3.8.10"
  }
 },
 "nbformat": 4,
 "nbformat_minor": 2
}
