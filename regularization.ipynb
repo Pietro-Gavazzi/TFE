{
 "cells": [
  {
   "cell_type": "code",
   "execution_count": 1,
   "metadata": {},
   "outputs": [],
   "source": [
    "# some imports\n",
    "import numpy as np \n",
    "import pandas as pd\n",
    "import matplotlib.pyplot as plt"
   ]
  },
  {
   "cell_type": "code",
   "execution_count": 17,
   "metadata": {},
   "outputs": [],
   "source": [
    "def get_data(nb_features, nb_data, mean_X, std_X, mean_epsilon0, std_epsilon0, mean_epsilon1, std_epsilon1, random_seed):\n",
    "    \n",
    "    np.random.seed(random_seed)\n",
    "\n",
    "    epsilon0 = np.random.normal(mean_epsilon0, std_epsilon0, (nb_data,nb_features+1))\n",
    "    epsilon1 = np.random.normal(mean_epsilon1, std_epsilon1, (nb_data))\n",
    "\n",
    "    X = np.random.normal(mean_X,std_X,(nb_data, nb_features+1))\n",
    "    X.T[0] = np.ones(nb_data)\n",
    "\n",
    "    Xtilde = X+epsilon0\n",
    "    Xtilde.T[0] = np.ones(nb_data)\n",
    "\n",
    "    w = np.random.uniform(-10, 10, nb_features+1)\n",
    "\n",
    "    y = X@w\n",
    "    ytilde = y+epsilon1\n",
    "    return X, Xtilde, y, ytilde, w"
   ]
  },
  {
   "cell_type": "code",
   "execution_count": 29,
   "metadata": {},
   "outputs": [
    {
     "ename": "KeyboardInterrupt",
     "evalue": "",
     "output_type": "error",
     "traceback": [
      "\u001b[1;31m---------------------------------------------------------------------------\u001b[0m",
      "\u001b[1;31mKeyboardInterrupt\u001b[0m                         Traceback (most recent call last)",
      "Cell \u001b[1;32mIn [29], line 21\u001b[0m\n\u001b[0;32m     17\u001b[0m sum_mse_of_bias_variance_tradeoff \u001b[38;5;241m=\u001b[39m \u001b[38;5;241m0\u001b[39m\n\u001b[0;32m     19\u001b[0m \u001b[38;5;28;01mfor\u001b[39;00m random_seed \u001b[38;5;129;01min\u001b[39;00m \u001b[38;5;28mrange\u001b[39m(nb_experiment):\n\u001b[1;32m---> 21\u001b[0m     X, Xtilde, y, ytilde, w \u001b[38;5;241m=\u001b[39m get_data(nb_features, nb_data, mean_X, std_X, mean_epsilon0, std_epsilon0, mean_epsilon1, std_epsilon1, random_seed)\n\u001b[0;32m     23\u001b[0m     what \u001b[38;5;241m=\u001b[39m np\u001b[38;5;241m.\u001b[39mlinalg\u001b[38;5;241m.\u001b[39msolve(X\u001b[38;5;241m.\u001b[39mT\u001b[38;5;129m@X\u001b[39m, X\u001b[38;5;241m.\u001b[39mT\u001b[38;5;129m@ytilde\u001b[39m)\n\u001b[0;32m     24\u001b[0m     yhat \u001b[38;5;241m=\u001b[39m Xtilde\u001b[38;5;129m@what\u001b[39m\n",
      "Cell \u001b[1;32mIn [17], line 5\u001b[0m, in \u001b[0;36mget_data\u001b[1;34m(nb_features, nb_data, mean_X, std_X, mean_epsilon0, std_epsilon0, mean_epsilon1, std_epsilon1, random_seed)\u001b[0m\n\u001b[0;32m      1\u001b[0m \u001b[38;5;28;01mdef\u001b[39;00m \u001b[38;5;21mget_data\u001b[39m(nb_features, nb_data, mean_X, std_X, mean_epsilon0, std_epsilon0, mean_epsilon1, std_epsilon1, random_seed):\n\u001b[0;32m      3\u001b[0m     np\u001b[38;5;241m.\u001b[39mrandom\u001b[38;5;241m.\u001b[39mseed(random_seed)\n\u001b[1;32m----> 5\u001b[0m     epsilon0 \u001b[38;5;241m=\u001b[39m \u001b[43mnp\u001b[49m\u001b[38;5;241;43m.\u001b[39;49m\u001b[43mrandom\u001b[49m\u001b[38;5;241;43m.\u001b[39;49m\u001b[43mnormal\u001b[49m\u001b[43m(\u001b[49m\u001b[43mmean_epsilon0\u001b[49m\u001b[43m,\u001b[49m\u001b[43m \u001b[49m\u001b[43mstd_epsilon0\u001b[49m\u001b[43m,\u001b[49m\u001b[43m \u001b[49m\u001b[43m(\u001b[49m\u001b[43mnb_data\u001b[49m\u001b[43m,\u001b[49m\u001b[43mnb_features\u001b[49m\u001b[38;5;241;43m+\u001b[39;49m\u001b[38;5;241;43m1\u001b[39;49m\u001b[43m)\u001b[49m\u001b[43m)\u001b[49m\n\u001b[0;32m      6\u001b[0m     epsilon1 \u001b[38;5;241m=\u001b[39m np\u001b[38;5;241m.\u001b[39mrandom\u001b[38;5;241m.\u001b[39mnormal(mean_epsilon1, std_epsilon1, (nb_data))\n\u001b[0;32m      8\u001b[0m     X \u001b[38;5;241m=\u001b[39m np\u001b[38;5;241m.\u001b[39mrandom\u001b[38;5;241m.\u001b[39mnormal(mean_X,std_X,(nb_data, nb_features\u001b[38;5;241m+\u001b[39m\u001b[38;5;241m1\u001b[39m))\n",
      "\u001b[1;31mKeyboardInterrupt\u001b[0m: "
     ]
    }
   ],
   "source": [
    "nb_experiment = 1\n",
    "nb_features = 1000\n",
    "nb_data = 100000\n",
    "\n",
    "mean_X = 0\n",
    "std_X = 1\n",
    "\n",
    "mean_epsilon0 = 0\n",
    "std_epsilon0 = 0\n",
    "\n",
    "mean_epsilon1 = 0\n",
    "std_epsilon1 = 1\n",
    "\n",
    "\n",
    "\n",
    "sum_mse = 0\n",
    "sum_mse_of_bias_variance_tradeoff = 0\n",
    "\n",
    "for random_seed in range(nb_experiment):\n",
    "\n",
    "    X, Xtilde, y, ytilde, w = get_data(nb_features, nb_data, mean_X, std_X, mean_epsilon0, std_epsilon0, mean_epsilon1, std_epsilon1, random_seed)\n",
    "\n",
    "    what = np.linalg.solve(X.T@X, X.T@ytilde)\n",
    "    yhat = Xtilde@what\n",
    "    # print(X@w-y)\n",
    "    sum_mse += np.sum((y-yhat)**2)/sum(y**2)\n",
    "    sum_mse_of_bias_variance_tradeoff += np.sum((ytilde-yhat)**2)/sum(ytilde**2)\n",
    "\n",
    "\n",
    "\n",
    "\n",
    "print(f\"MSE            = {sum_mse/nb_experiment}\")\n",
    "print(f\"MSE bias var   = {sum_mse_of_bias_variance_tradeoff/nb_experiment}\")\n",
    "\n"
   ]
  }
 ],
 "metadata": {
  "kernelspec": {
   "display_name": "Python 3",
   "language": "python",
   "name": "python3"
  },
  "language_info": {
   "codemirror_mode": {
    "name": "ipython",
    "version": 3
   },
   "file_extension": ".py",
   "mimetype": "text/x-python",
   "name": "python",
   "nbconvert_exporter": "python",
   "pygments_lexer": "ipython3",
   "version": "3.8.10"
  }
 },
 "nbformat": 4,
 "nbformat_minor": 2
}
