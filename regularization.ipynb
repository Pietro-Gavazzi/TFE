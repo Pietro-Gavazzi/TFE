{
 "cells": [
  {
   "cell_type": "code",
   "execution_count": 5,
   "metadata": {},
   "outputs": [],
   "source": [
    "# some imports\n",
    "import numpy as np \n",
    "import pandas as pd\n",
    "import matplotlib.pyplot as plt"
   ]
  },
  {
   "cell_type": "code",
   "execution_count": null,
   "metadata": {},
   "outputs": [
    {
     "name": "stdout",
     "output_type": "stream",
     "text": [
      "Coefficients: [-4.07914181 -2.99457703  0.49940373]\n",
      "Coefficients: [-4.07914181 -2.99457703  0.49940373]\n"
     ]
    }
   ],
   "source": [
    "\n",
    "\n",
    "\n",
    "class RidgeRegression:\n",
    "    def __init__(self, alpha=1.0):\n",
    "        self.alpha = alpha\n",
    "        self.coefficients = None\n",
    "\n",
    "    def fit(self, X, y):\n",
    "        n_samples, n_features = X.shape\n",
    "        \n",
    "        \n",
    "        # Compute coefficients using the closed-form solution\n",
    "        A = X.T.dot(X) + self.alpha * np.eye(n_features)\n",
    "        b = X.T.dot(y)\n",
    "        self.coefficients = np.linalg.solve(A, b)\n",
    "\n",
    "    def predict(self, X):\n",
    "        n_samples = X.shape[0]\n",
    "        return X.dot(self.coefficients)\n",
    "    \n",
    "\n",
    "\n",
    "class DerRidgeRegression:\n",
    "    def __init__(self, alpha=1.0):\n",
    "        self.alpha = alpha\n",
    "        self.coefficients = None\n",
    "\n",
    "    def fit(self, X, y):\n",
    "        n_samples, n_features = X.shape\n",
    "        \n",
    "        \n",
    "        # Compute coefficients using the closed-form solution\n",
    "        A = X.T.dot(X) + (self.alpha/n_samples) * np.asarray([[0, 0, 0], [0, np.sum(X[:, 1]), 0], [0, 0, n_samples]])\n",
    "        b = X.T.dot(y)\n",
    "        self.coefficients = np.linalg.solve(A, b)\n",
    "\n",
    "    def predict(self, X):\n",
    "        return X.dot(self.coefficients)\n",
    "    \n"
   ]
  },
  {
   "cell_type": "code",
   "execution_count": 124,
   "metadata": {},
   "outputs": [
    {
     "name": "stdout",
     "output_type": "stream",
     "text": [
      "der   = 84.02685126888379\n",
      "ridge = 5.824891266011877\n"
     ]
    }
   ],
   "source": [
    "n = 4\n",
    "std = 1\n",
    "a0 = -4\n",
    "a1 = -3\n",
    "a2 = .5\n",
    "\n",
    "params = np.array([a0, a1, a2])\n",
    "\n",
    "\n",
    "def f(X):\n",
    "    return X@params\n",
    "\n",
    "\n",
    "nb_tests = 100\n",
    "sum_mse_ridge = 0\n",
    "sum_mse_der = 0\n",
    "\n",
    "for i in range(nb_tests):\n",
    "    np.random.seed(i)\n",
    "\n",
    "    x = np.random.uniform(-10, 10, n)\n",
    "    X = np.asarray([np.ones(n), x, x**2]).T\n",
    "    y = f(X) + np.random.normal(0, std, n)\n",
    "\n",
    "    ridge_reg = RidgeRegression(alpha=1.0)\n",
    "    ridge_reg.fit(X, y)\n",
    "    y_pred = ridge_reg.predict(X)\n",
    "\n",
    "    sum_mse_ridge += np.sum((ridge_reg.coefficients-params)**2)\n",
    "\n",
    "\n",
    "    der_ridge_reg = DerRidgeRegression(alpha=1.0)\n",
    "    der_ridge_reg.fit(X, y)\n",
    "    y_pred = der_ridge_reg.predict(X)\n",
    "\n",
    "    sum_mse_der += np.sum((der_ridge_reg.coefficients-params)**2)\n",
    "\n",
    "\n",
    "print(f\"der   = {sum_mse_der/nb_tests}\")\n",
    "print(f\"ridge = {sum_mse_ridge/nb_tests}\")\n"
   ]
  }
 ],
 "metadata": {
  "kernelspec": {
   "display_name": "Python 3",
   "language": "python",
   "name": "python3"
  },
  "language_info": {
   "codemirror_mode": {
    "name": "ipython",
    "version": 3
   },
   "file_extension": ".py",
   "mimetype": "text/x-python",
   "name": "python",
   "nbconvert_exporter": "python",
   "pygments_lexer": "ipython3",
   "version": "3.8.10"
  }
 },
 "nbformat": 4,
 "nbformat_minor": 2
}
